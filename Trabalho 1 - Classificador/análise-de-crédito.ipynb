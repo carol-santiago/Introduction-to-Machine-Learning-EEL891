{
 "cells": [
  {
   "cell_type": "code",
   "execution_count": 5,
   "metadata": {},
   "outputs": [],
   "source": [
    "import pandas as pd\n",
    "from sklearn.model_selection import train_test_split\n",
    "from sklearn.linear_model import LogisticRegression\n",
    "from sklearn.metrics import accuracy_score\n"
   ]
  },
  {
   "cell_type": "code",
   "execution_count": 6,
   "metadata": {},
   "outputs": [],
   "source": [
    "\n",
    "# Carregar o conjunto de dados\n",
    "def load_dataset():\n",
    "    df_train = pd.read_csv(\n",
    "        './Dataset/conjunto_de_treinamento.csv')\n",
    "    return df_train\n"
   ]
  },
  {
   "cell_type": "code",
   "execution_count": 7,
   "metadata": {},
   "outputs": [],
   "source": [
    "\n",
    "# Imprimir os nomes das colunas de treinamento\n",
    "def print_column_names(df):\n",
    "    columns = df.columns[:-1]  # Excluir a última coluna (variável-alvo)\n",
    "    for column in columns:\n",
    "        print(column)\n",
    "\n"
   ]
  },
  {
   "cell_type": "code",
   "execution_count": 8,
   "metadata": {},
   "outputs": [
    {
     "name": "stdout",
     "output_type": "stream",
     "text": [
      "id_solicitante\n",
      "produto_solicitado\n",
      "dia_vencimento\n",
      "forma_envio_solicitacao\n",
      "tipo_endereco\n",
      "sexo\n",
      "idade\n",
      "estado_civil\n",
      "qtde_dependentes\n",
      "grau_instrucao\n",
      "nacionalidade\n",
      "estado_onde_nasceu\n",
      "estado_onde_reside\n",
      "possui_telefone_residencial\n",
      "codigo_area_telefone_residencial\n",
      "tipo_residencia\n",
      "meses_na_residencia\n",
      "possui_telefone_celular\n",
      "possui_email\n",
      "renda_mensal_regular\n",
      "renda_extra\n",
      "possui_cartao_visa\n",
      "possui_cartao_mastercard\n",
      "possui_cartao_diners\n",
      "possui_cartao_amex\n",
      "possui_outros_cartoes\n",
      "qtde_contas_bancarias\n",
      "qtde_contas_bancarias_especiais\n",
      "valor_patrimonio_pessoal\n",
      "possui_carro\n",
      "vinculo_formal_com_empresa\n",
      "estado_onde_trabalha\n",
      "possui_telefone_trabalho\n",
      "codigo_area_telefone_trabalho\n",
      "meses_no_trabalho\n",
      "profissao\n",
      "ocupacao\n",
      "profissao_companheiro\n",
      "grau_instrucao_companheiro\n",
      "local_onde_reside\n",
      "local_onde_trabalha\n"
     ]
    }
   ],
   "source": [
    "\n",
    "# Carregar o conjunto de dados\n",
    "df_train = load_dataset()\n",
    "\n",
    "# Imprimir os nomes das colunas de treinamento\n",
    "print_column_names(df_train)\n"
   ]
  }
 ],
 "metadata": {
  "kernelspec": {
   "display_name": "trabalho-um",
   "language": "python",
   "name": "python3"
  },
  "language_info": {
   "codemirror_mode": {
    "name": "ipython",
    "version": 3
   },
   "file_extension": ".py",
   "mimetype": "text/x-python",
   "name": "python",
   "nbconvert_exporter": "python",
   "pygments_lexer": "ipython3",
   "version": "3.11.3"
  },
  "orig_nbformat": 4
 },
 "nbformat": 4,
 "nbformat_minor": 2
}
