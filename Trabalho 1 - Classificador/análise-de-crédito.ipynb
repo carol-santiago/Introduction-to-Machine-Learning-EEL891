{
 "cells": [
  {
   "cell_type": "code",
   "execution_count": 41,
   "metadata": {},
   "outputs": [],
   "source": [
    "import pandas as pd\n",
    "from sklearn.ensemble import RandomForestClassifier  # For classification tasks\n",
    "from sklearn.model_selection import train_test_split\n",
    "from sklearn.tree import DecisionTreeClassifier\n",
    "from sklearn.impute import SimpleImputer\n",
    "from sklearn.metrics import accuracy_score\n",
    "\n",
    "df_train = pd.read_csv('Dataset/conjunto_de_treinamento.csv')\n",
    "df_train.drop(columns=['id_solicitante'], inplace=True)\n",
    "\n",
    "df_test = pd.read_csv('Dataset/conjunto_de_teste.csv')\n",
    "df_test.drop(columns=['id_solicitante'], inplace=True)\n"
   ]
  },
  {
   "cell_type": "code",
   "execution_count": 42,
   "metadata": {},
   "outputs": [],
   "source": [
    "# Tratando das colunas nominais\n",
    "\n",
    "## Variáveis binárias\n",
    "yn = [df_train.columns[12],\n",
    "df_train.columns[16],\n",
    "df_train.columns[29],\n",
    "df_train.columns[31]]\n",
    "\n",
    "for i in range(len(yn)):\n",
    "    df_train[yn[i]] = df_train[yn[i]].map({'N': 0, 'Y': 1})\n",
    "\n",
    "df_train['sexo'] = df_train['sexo'].map({'M': 0, 'F': 1, 'N': None})\n",
    "df_train['forma_envio_solicitacao'] = df_train['forma_envio_solicitacao'].map({'internet': 0, 'correio': 1, 'presencial': 2})\n",
    "\n",
    "## Variáveis nominais\n",
    "def estados_format(df, column):\n",
    "    return df[column].map({'AC': 0, 'AL': 1, 'AM': 2, 'AP': 3, 'BA': 4, 'CE': 5, 'DF': 6, 'ES': 7, 'GO': 8, 'MA': 9, 'MG': 10, 'MS': 11, 'MT': 12, 'PA': 13, 'PB': 14, 'PE': 15, 'PI': 16, 'PR': 17, 'RJ': 18, 'RN': 19, 'RO': 20, 'RR': 21, 'RS': 22, 'SC': 23, 'SE': 24, 'SP': 25, 'TO': 26})\n",
    "\n",
    "df_train['estado_onde_nasceu'] = estados_format(df_train, 'estado_onde_nasceu')\n",
    "df_train['estado_onde_reside'] = estados_format(df_train, 'estado_onde_reside')\n",
    "df_train['estado_onde_trabalha'] = estados_format(df_train, 'estado_onde_trabalha')\n",
    "\n",
    "## Preenchendo categorias incompletas\n",
    "df_train['profissao_companheiro'].fillna(-1, inplace=True)\n",
    "df_train['profissao'].fillna(-1, inplace=True)\n",
    "df_train['grau_instrucao'].fillna(-1, inplace=True)\n",
    "df_train['ocupacao'].fillna(-1, inplace=True)\n",
    "\n",
    "## Transformando categorias str em int\n",
    "def tel_format(df, column):\n",
    "    df[column].replace(' ', -1, inplace=True)\n",
    "    return df[column].map(int)\n",
    "\n",
    "df_train['codigo_area_telefone_trabalho'] = tel_format(df_train, 'codigo_area_telefone_trabalho')\n",
    "df_train['codigo_area_telefone_residencial'] = tel_format(df_train, 'codigo_area_telefone_residencial')"
   ]
  },
  {
   "cell_type": "code",
   "execution_count": 43,
   "metadata": {},
   "outputs": [],
   "source": [
    "# Tratando das colunas nominais\n",
    "\n",
    "## Variáveis binárias\n",
    "yn = [df_test.columns[12],\n",
    "df_test.columns[16],\n",
    "df_test.columns[29],\n",
    "df_test.columns[31]]\n",
    "\n",
    "for i in range(len(yn)):\n",
    "    df_test[yn[i]] = df_test[yn[i]].map({'N': 0, 'Y': 1})\n",
    "\n",
    "df_test['sexo'] = df_test['sexo'].map({'M': 0, 'F': 1, 'N': None})\n",
    "df_test['forma_envio_solicitacao'] = df_test['forma_envio_solicitacao'].map({'internet': 0, 'correio': 1, 'presencial': 2})\n",
    "\n",
    "## Variáveis nominais\n",
    "def estados_format(df, column):\n",
    "    return df[column].map({'AC': 0, 'AL': 1, 'AM': 2, 'AP': 3, 'BA': 4, 'CE': 5, 'DF': 6, 'ES': 7, 'GO': 8, 'MA': 9, 'MG': 10, 'MS': 11, 'MT': 12, 'PA': 13, 'PB': 14, 'PE': 15, 'PI': 16, 'PR': 17, 'RJ': 18, 'RN': 19, 'RO': 20, 'RR': 21, 'RS': 22, 'SC': 23, 'SE': 24, 'SP': 25, 'TO': 26})\n",
    "\n",
    "df_test['estado_onde_nasceu'] = estados_format(df_test, 'estado_onde_nasceu')\n",
    "df_test['estado_onde_reside'] = estados_format(df_test, 'estado_onde_reside')\n",
    "df_test['estado_onde_trabalha'] = estados_format(df_test, 'estado_onde_trabalha')\n",
    "\n",
    "## Preenchendo categorias incompletas\n",
    "df_test['profissao_companheiro'].fillna(-1, inplace=True)\n",
    "df_test['profissao'].fillna(-1, inplace=True)\n",
    "df_test['grau_instrucao'].fillna(-1, inplace=True)\n",
    "df_test['ocupacao'].fillna(-1, inplace=True)\n",
    "\n",
    "## Transformando categorias str em int\n",
    "def tel_format(df, column):\n",
    "    df[column].replace(' ', -1, inplace=True)\n",
    "    return df[column].map(int)\n",
    "\n",
    "df_test['codigo_area_telefone_trabalho'] = tel_format(df_test, 'codigo_area_telefone_trabalho')\n",
    "df_test['codigo_area_telefone_residencial'] = tel_format(df_test, 'codigo_area_telefone_residencial')"
   ]
  },
  {
   "cell_type": "code",
   "execution_count": 44,
   "metadata": {},
   "outputs": [],
   "source": [
    "X = df_train.iloc[:, :-1]\n",
    "y = df_train.iloc[:, -1]\n",
    "X_test = df_test\n",
    "\n",
    "\n",
    "\n",
    "# X_train, X_test, y_train, y_test = train_test_split(X, y, test_size=0.25)\n",
    "\n",
    "\n",
    "\n",
    "# model = RandomForestClassifier()\n",
    "# model.fit(X_train, y_train)\n",
    "# y_pred = model.predict(X_test)\n",
    "# print(accuracy_score(y_test, y_pred))"
   ]
  },
  {
   "cell_type": "code",
   "execution_count": 95,
   "metadata": {},
   "outputs": [],
   "source": [
    "imputer = SimpleImputer(strategy='constant', fill_value=-1)\n",
    "\n",
    "# Impute missing values in the training data\n",
    "imputed_X_train = imputer.fit_transform(X)\n",
    "\n",
    "# Create an instance of the DecisionTreeClassifier class\n",
    "classifier = DecisionTreeClassifier()\n",
    "\n",
    "# Train the model with the imputed training data\n",
    "classifier.fit(imputed_X_train, y)\n",
    "\n",
    "# Impute missing values in the test data\n",
    "imputed_X_test = imputer.transform(X_test)\n",
    "\n",
    "# Make predictions using the trained model\n",
    "predictions = classifier.predict(imputed_X_test)"
   ]
  },
  {
   "cell_type": "code",
   "execution_count": 96,
   "metadata": {},
   "outputs": [
    {
     "data": {
      "text/plain": [
       "(5000, 2)"
      ]
     },
     "execution_count": 96,
     "metadata": {},
     "output_type": "execute_result"
    }
   ],
   "source": [
    "\n",
    "df_test = pd.read_csv('Dataset/conjunto_de_teste.csv')\n",
    "\n",
    "prediction_file = pd.DataFrame(predictions, columns=['inadimplente'])\n",
    "prediction_file = pd.concat([df_test['id_solicitante'], prediction_file], axis=1)\n",
    "prediction_file = prediction_file.to_csv('results/predictions.csv', index=False)\n",
    "\n",
    "\n",
    "prediction_file = pd.read_csv('results/predictions.csv')\n",
    "prediction_file.shape\n",
    "\n",
    "\n",
    "# print(f'{accuracy_score(y_test, predictions)*100}%')"
   ]
  }
 ],
 "metadata": {
  "kernelspec": {
   "display_name": "trabalho-um",
   "language": "python",
   "name": "python3"
  },
  "language_info": {
   "codemirror_mode": {
    "name": "ipython",
    "version": 3
   },
   "file_extension": ".py",
   "mimetype": "text/x-python",
   "name": "python",
   "nbconvert_exporter": "python",
   "pygments_lexer": "ipython3",
   "version": "3.11.3"
  },
  "orig_nbformat": 4
 },
 "nbformat": 4,
 "nbformat_minor": 2
}
