{
 "cells": [
  {
   "cell_type": "markdown",
   "metadata": {},
   "source": [
    "# Código Trabalho 2 (Regressão)"
   ]
  },
  {
   "cell_type": "markdown",
   "metadata": {},
   "source": [
    "## Definindo os DataFrames de treinamento e de teste"
   ]
  },
  {
   "cell_type": "code",
   "execution_count": null,
   "metadata": {},
   "outputs": [],
   "source": [
    "import pandas as pd\n",
    "\n",
    "df_train = pd.read_csv('Dataset/conjunto_de_treinamento.csv')\n",
    "df_test = pd.read_csv('Dataset/conjunto_de_teste.csv')\n",
    "\n",
    "df_train.shape"
   ]
  },
  {
   "cell_type": "markdown",
   "metadata": {},
   "source": [
    "## Pré-processamento dos dados"
   ]
  },
  {
   "cell_type": "markdown",
   "metadata": {},
   "source": [
    "### Funções usadas para \"tratar\" os dados: \n",
    "- Atribuir valores numéricos às variáveis nominais;\n",
    "- Remover variáveis que não trazem boas contribuições para o resultado final (olhar a sessão de \"análise de dados\" ao final do código)\n",
    "- Preenche espaços em branco (null) nas colunas que precisam"
   ]
  },
  {
   "cell_type": "code",
   "execution_count": null,
   "metadata": {},
   "outputs": [],
   "source": [
    "def DataProcessing1(df):\n",
    "    # Exclui colunas que não serão utilizadas\n",
    "    df.drop(columns=['Id'], inplace=True)\n",
    "    df.drop(columns=['diferenciais'], inplace=True)\n",
    "    df.drop(columns=['tipo_vendedor'], inplace=True)\n",
    "    df.drop(columns=['area_extra'], inplace=True)\n",
    "    df.drop(columns=['estacionamento'], inplace=True)\n",
    "\n",
    "    # Transforma coluna 'tipo' em numérica\n",
    "    df['tipo'] = df['tipo'].map({'Apartamento': 1, 'Casa': 2})\n",
    "    df.fillna(0.5, inplace=True)\n",
    "\n",
    "    return df"
   ]
  },
  {
   "cell_type": "code",
   "execution_count": null,
   "metadata": {},
   "outputs": [],
   "source": [
    "def DataProcessing2(df):\n",
    "    # Calcula a média dos valores dos imóveis por bairro\n",
    "    mean_encoded = df.groupby('bairro')['preco'].mean()\n",
    "    \n",
    "    # Cria um dicionário com os bairros originais e suas respectivas versões codificadas (valores médios dos imóveis)\n",
    "    bairros_config = mean_encoded.to_dict()\n",
    "    \n",
    "    # Mapeia os valores médios dos imóveis por bairro para todos os bairros\n",
    "    df['bairro'] = df['bairro'].map(mean_encoded)\n",
    "\n",
    "    return df, bairros_config\n"
   ]
  },
  {
   "cell_type": "code",
   "execution_count": null,
   "metadata": {},
   "outputs": [],
   "source": [
    "def CodificarBairroTeste(df, bairros_config):\n",
    "    # Codifica a coluna 'bairro' do conjunto de teste de acordo com o dicionário criado por DataProcessing2(df_train)\n",
    "    df['bairro'] = df['bairro'].map(bairros_config)\n",
    "    df_test['bairro'].fillna(df_test['bairro'].mean(), inplace=True)\n",
    "\n",
    "    return df\n"
   ]
  },
  {
   "cell_type": "code",
   "execution_count": null,
   "metadata": {},
   "outputs": [],
   "source": [
    "# Passa os DataFrames pelas funções de pré-processamento\n",
    "df_train = DataProcessing1(df_train)\n",
    "df_test = DataProcessing1(df_test)\n",
    "\n",
    "df_train, bairros_enc = DataProcessing2(df_train)\n",
    "df_test = CodificarBairroTeste(df_test, bairros_enc)"
   ]
  },
  {
   "cell_type": "markdown",
   "metadata": {},
   "source": [
    "### Checando o pré-processamento\n",
    "Verifica se todas as colunas dos DataFrames de treinamento e teste estão completamente preenchidas, e se o formato dos dados é numérico."
   ]
  },
  {
   "cell_type": "code",
   "execution_count": null,
   "metadata": {},
   "outputs": [],
   "source": [
    "# Conta o número de valores NaN em cada coluna\n",
    "contagem_nan = df_test.isnull().sum(), df_train.isnull().sum()\n",
    "# Exibe a contagem de valores NaN\n",
    "print(contagem_nan[0], '\\n\\n', contagem_nan[1])\n"
   ]
  },
  {
   "cell_type": "markdown",
   "metadata": {},
   "source": [
    "### Separando os dados de treino e teste"
   ]
  },
  {
   "cell_type": "code",
   "execution_count": null,
   "metadata": {},
   "outputs": [],
   "source": [
    "X_train = df_train.iloc[:, :-1].values\n",
    "y_train = df_train.iloc[:, -1].values\n",
    "X_test = df_test.iloc[:, :].values\n",
    "\n",
    "X_train.shape, X_test.shape\n"
   ]
  },
  {
   "cell_type": "markdown",
   "metadata": {},
   "source": [
    "### Treinando o modelo e salvando o resultado"
   ]
  },
  {
   "cell_type": "code",
   "execution_count": null,
   "metadata": {},
   "outputs": [],
   "source": [
    "import numpy as np\n",
    "from sklearn.neighbors import KNeighborsRegressor\n",
    "\n",
    "model = KNeighborsRegressor(n_neighbors=1)\n",
    "model.fit(X_train, y_train)\n",
    "\n",
    "y_pred = model.predict(X_test)"
   ]
  },
  {
   "cell_type": "code",
   "execution_count": null,
   "metadata": {},
   "outputs": [],
   "source": [
    "# Cria um DataFrame com a coluna 'Id' e 'preco' contendo os valores de y_pred\n",
    "df_resultado = pd.DataFrame({'Id': range(len(y_pred)), 'preco': y_pred})\n",
    "\n",
    "# Salva o DataFrame em um arquivo CSV\n",
    "df_resultado.to_csv('resultadofinal.csv', index=False)\n",
    "df_resultado.shape"
   ]
  },
  {
   "cell_type": "markdown",
   "metadata": {},
   "source": [
    "### Análise dos dados\n",
    "A função \"graficos_knn\" gera:\n",
    "- Um gráfico de dispersão das previsões versus os valores reais de acordo com o valor escolhido para \"k\";\n",
    "- \"n\" gráficos de barra mostrando os níveis de correlação de uma coluna com todas as outras. O loop serve para garantir que seja analisada a correlação entre todas as permutações de colunas de forma relativamente eficiente."
   ]
  },
  {
   "cell_type": "code",
   "execution_count": null,
   "metadata": {},
   "outputs": [],
   "source": [
    "import matplotlib.pyplot as plt\n",
    "import seaborn as sns\n",
    "\n",
    "def graficos_knn(X_train, y_train, col_index, k):\n",
    "    # Ajusta o modelo KNN com o número de vizinhos (k) desejado\n",
    "    model = KNeighborsRegressor(n_neighbors=k)\n",
    "    model.fit(X_train, y_train)\n",
    "    \n",
    "    # Obtém as previsões do modelo\n",
    "    y_pred = model.predict(X_train)\n",
    "    colors = np.arange(len(y_train))\n",
    "\n",
    "    # Cria um gráfico de dispersão das previsões versus os valores reais, com cores diferentes para cada variável\n",
    "    plt.scatter(y_train, y_pred, c=colors, cmap='rainbow')  # cmap define a paleta de cores desejada\n",
    "    plt.xlabel('Valor Real')\n",
    "    plt.ylabel('Valor Previsto')\n",
    "    plt.title(f'Gráfico de Dispersão KNN (k={k})')\n",
    "    plt.colorbar(label='Amostras')\n",
    "    plt.show()\n",
    "    \n",
    "    # Calcula a correlação entre a coluna selecionada e as outras colunas\n",
    "    col_name = df_train.columns[col_index]\n",
    "    df = pd.DataFrame(X_train, columns=df_train.columns[:-1])\n",
    "    df['Valor Real'] = y_train\n",
    "    correlation = df.corr()[col_name]\n",
    "    \n",
    "    # Plota um gráfico de barras da correlação\n",
    "    plt.figure(figsize=(10, 6))\n",
    "    sns.barplot(x=correlation.index, y=correlation.values)\n",
    "    plt.xlabel('Colunas')\n",
    "    plt.ylabel('Correlação')\n",
    "    plt.title(f'Correlação da Coluna \"{col_name}\" com as Outras Colunas')\n",
    "    plt.xticks(rotation=90)\n",
    "    plt.show()\n"
   ]
  },
  {
   "cell_type": "code",
   "execution_count": null,
   "metadata": {},
   "outputs": [],
   "source": [
    "for n in range(18):\n",
    "    graficos_knn(X_train, y_train, n, k=1)"
   ]
  }
 ],
 "metadata": {
  "kernelspec": {
   "display_name": "trabalho-dois",
   "language": "python",
   "name": "python3"
  },
  "language_info": {
   "codemirror_mode": {
    "name": "ipython",
    "version": 3
   },
   "file_extension": ".py",
   "mimetype": "text/x-python",
   "name": "python",
   "nbconvert_exporter": "python",
   "pygments_lexer": "ipython3",
   "version": "3.11.3"
  },
  "orig_nbformat": 4
 },
 "nbformat": 4,
 "nbformat_minor": 2
}
