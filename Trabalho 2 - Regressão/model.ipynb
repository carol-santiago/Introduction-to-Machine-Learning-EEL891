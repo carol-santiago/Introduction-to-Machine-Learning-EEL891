{
 "cells": [
  {
   "cell_type": "code",
   "execution_count": null,
   "metadata": {},
   "outputs": [],
   "source": [
    "import pandas as pd\n",
    "\n",
    "df_train = pd.read_csv('Dataset/conjunto_de_treinamento.csv')"
   ]
  },
  {
   "cell_type": "code",
   "execution_count": null,
   "metadata": {},
   "outputs": [],
   "source": [
    "def DataProcessing1(df):\n",
    "    df.drop(columns=['Id'], inplace=True)\n",
    "    df.drop(columns=['diferenciais'], inplace=True)\n",
    "\n",
    "    df['tipo'] = df['tipo'].map({'Apartamento': 1, 'Casa': 2})\n",
    "    df['tipo'].fillna(0, inplace=True)\n",
    "    df['tipo_vendedor'] = df['tipo_vendedor'].map({'Imobiliaria': 0, 'Pessoa Fisica': 1})"
   ]
  },
  {
   "cell_type": "code",
   "execution_count": null,
   "metadata": {},
   "outputs": [],
   "source": [
    "def DataProcessing2(df):\n",
    "    # Calcula a média dos valores dos imóveis por bairro\n",
    "    mean_encoded = df.groupby('bairro')['preco'].mean()\n",
    "\n",
    "    # Mapeia os valores médios dos imóveis por bairro para os respectivos bairros\n",
    "    df['Bairro_Encoded'] = df['bairro'].map(mean_encoded)\n",
    "\n",
    "    # Obtém a lista de todas as colunas no DataFrame\n",
    "    colunas = df.columns.tolist()\n",
    "\n",
    "    # Move a coluna 'Bairro_Encoded' para a posição desejada, logo após a coluna 'Bairro'\n",
    "    colunas.insert(colunas.index('bairro') + 1, colunas.pop(colunas.index('Bairro_Encoded')))\n",
    "\n",
    "    # Reindexa o DataFrame com as colunas na nova ordem\n",
    "    df = df.reindex(columns=colunas)\n",
    "    df.drop(columns=['bairro'], inplace=True)\n",
    "    return df\n"
   ]
  },
  {
   "cell_type": "code",
   "execution_count": null,
   "metadata": {},
   "outputs": [],
   "source": [
    "# # Verifica se a coluna 'tipo' contém valores NaN\n",
    "# df_train['tipo'].fillna(-1, inplace=True)\n",
    "# tem_nan = df_train['tipo'].isna().any()\n",
    "# print(df_train['tipo'].value_counts()\n",
    "# )\n",
    "# # Exibe o resultado\n",
    "# tem_nan"
   ]
  },
  {
   "cell_type": "code",
   "execution_count": null,
   "metadata": {},
   "outputs": [],
   "source": [
    "df_test = pd.read_csv('Dataset/conjunto_de_teste.csv')\n",
    "\n",
    "DataProcessing1(df_train)\n",
    "DataProcessing1(df_test)\n",
    "df_train = DataProcessing2(df_train)\n"
   ]
  },
  {
   "cell_type": "code",
   "execution_count": null,
   "metadata": {},
   "outputs": [],
   "source": [
    "\n",
    "df_test['bairro'] = df_train['Bairro_Encoded']\n",
    "\n",
    "df_test.head()\n"
   ]
  },
  {
   "cell_type": "code",
   "execution_count": null,
   "metadata": {},
   "outputs": [],
   "source": [
    "X_train = df_train.iloc[:, :-1].values\n",
    "y_train = df_train.iloc[:, -1].values\n",
    "\n",
    "X_test = df_test.iloc[:, :].values\n",
    "# y_test = df_test.iloc[:, -1].values\n",
    "\n",
    "X_train.shape, X_test.shape\n"
   ]
  },
  {
   "cell_type": "code",
   "execution_count": null,
   "metadata": {},
   "outputs": [],
   "source": [
    "from sklearn.linear_model import LinearRegression\n",
    "model = LinearRegression()\n",
    "model.fit(X_train, y_train)\n",
    "\n",
    "y_pred = model.predict(X_test)\n"
   ]
  },
  {
   "cell_type": "code",
   "execution_count": null,
   "metadata": {},
   "outputs": [],
   "source": [
    "# Criar DataFrame com a coluna 'Id' e 'preco' contendo os valores de y_pred\n",
    "df_resultado = pd.DataFrame({'Id': range(len(y_pred)), 'preco': y_pred})\n",
    "\n",
    "# Salvar o DataFrame em um arquivo CSV\n",
    "df_resultado.to_csv('resultado.csv', index=False)"
   ]
  }
 ],
 "metadata": {
  "kernelspec": {
   "display_name": "trabalho-um",
   "language": "python",
   "name": "python3"
  },
  "language_info": {
   "codemirror_mode": {
    "name": "ipython",
    "version": 3
   },
   "file_extension": ".py",
   "mimetype": "text/x-python",
   "name": "python",
   "nbconvert_exporter": "python",
   "pygments_lexer": "ipython3",
   "version": "3.11.3"
  },
  "orig_nbformat": 4
 },
 "nbformat": 4,
 "nbformat_minor": 2
}
